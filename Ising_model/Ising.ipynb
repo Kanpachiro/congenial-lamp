{
 "cells": [
  {
   "cell_type": "markdown",
   "metadata": {},
   "source": [
    "$$ mean(Energy) = sum(E_i * P_i) / N^2 $$\n",
    "$$ variance = np.mean(Energy_i**2) - np.mean(Energy_i)**2 $$\n",
    "$$ Specific.heat = variance/(kB*Temp^2) $$"
   ]
  },
  {
   "cell_type": "code",
   "execution_count": 2,
   "metadata": {},
   "outputs": [
    {
     "name": "stdout",
     "output_type": "stream",
     "text": [
      "[[ 1 -1 -1  1 -1 -1 -1  1  1  1]\n",
      " [ 1  1 -1 -1  1  1  1  1 -1  1]\n",
      " [ 1 -1 -1  1 -1  1  1 -1  1 -1]\n",
      " [-1 -1 -1 -1  1  1 -1  1  1 -1]\n",
      " [ 1 -1  1  1 -1 -1 -1 -1  1 -1]\n",
      " [ 1  1  1  1 -1 -1  1 -1  1  1]\n",
      " [ 1  1 -1 -1  1 -1  1  1 -1  1]\n",
      " [ 1  1 -1 -1 -1 -1  1 -1 -1 -1]\n",
      " [ 1  1 -1 -1  1  1  1 -1  1  1]\n",
      " [ 1  1  1 -1 -1 -1 -1  1 -1 -1]]\n"
     ]
    }
   ],
   "source": [
    "import numpy as np\n",
    "\n",
    "x = np.arange(0,10,1)\n",
    "y = np.arange(0,10,1)\n",
    "\n",
    "a = [-1,1]\n",
    "\n",
    "lattice = []\n",
    "\n",
    "for i in range(len(x)):\n",
    "    lattice.append(np.random.choice(a,len(y)))\n",
    "\n",
    "lattice = np.array(lattice)\n",
    "\n",
    "print(lattice)\n",
    "\n",
    "# Energy_i = - J * sum(Sj*Sk)\n",
    "\n",
    "# variance = np.mean(Energy_i**2) - np.mean(Energy_i)**2\n",
    "\n",
    "# Specific_heat = variance/(kB*Temp**2)"
   ]
  },
  {
   "cell_type": "code",
   "execution_count": 3,
   "metadata": {},
   "outputs": [
    {
     "name": "stdout",
     "output_type": "stream",
     "text": [
      "8 3\n"
     ]
    }
   ],
   "source": [
    "# selecting a point randomly and calulating energy\n",
    "\n",
    "r_n = np.arange(0,10,1)\n",
    "\n",
    "# print(r_n)\n",
    "\n",
    "index_i = np.random.choice(r_n)\n",
    "\n",
    "index_j = np.random.choice(r_n)\n",
    "\n",
    "print(index_i,index_j)"
   ]
  },
  {
   "cell_type": "code",
   "execution_count": 4,
   "metadata": {},
   "outputs": [
    {
     "name": "stdout",
     "output_type": "stream",
     "text": [
      "1.0 -1.0\n",
      "[[ 1 -1 -1  1 -1 -1 -1  1  1  1]\n",
      " [ 1  1 -1 -1  1  1  1  1 -1  1]\n",
      " [ 1 -1 -1  1 -1  1  1 -1  1 -1]\n",
      " [-1 -1 -1 -1  1  1 -1  1  1 -1]\n",
      " [ 1 -1  1  1 -1 -1 -1 -1  1 -1]\n",
      " [ 1  1  1  1 -1 -1  1 -1  1  1]\n",
      " [ 1  1 -1 -1  1 -1  1  1 -1  1]\n",
      " [ 1  1 -1 -1 -1 -1  1 -1 -1 -1]\n",
      " [ 1  1 -1  1  1  1  1 -1  1  1]\n",
      " [ 1  1  1 -1 -1 -1 -1  1 -1 -1]]\n"
     ]
    }
   ],
   "source": [
    "# calculating Energy of init config\n",
    "\n",
    "Energy_o = lattice[index_i][index_j]*(np.array([lattice[index_i+1][index_j],lattice[index_i-1][index_j],lattice[index_i][index_j+1],lattice[index_i][index_j-1]]))\n",
    "\n",
    "Energy_p = -1*Energy_o\n",
    "\n",
    "# compare energies and acceptor rejector\n",
    "Temp = 1.5\n",
    "beta = 1/Temp\n",
    "J = 0.5\n",
    "\n",
    "Mod_Eo = J*(Energy_o.sum())\n",
    "Mod_Ep = J*(Energy_p.sum())\n",
    "\n",
    "print(Mod_Eo,Mod_Ep)\n",
    "\n",
    "if Mod_Ep <= Mod_Eo:\n",
    "    lattice[index_i][index_j] = -1*(lattice[index_i][index_j])\n",
    "else:\n",
    "    transition_prob = np.exp(-beta*abs(Mod_Ep-Mod_Eo))\n",
    "    ran = np.random.random()\n",
    "    if transition_prob > ran:\n",
    "        lattice[index_i][index_j] = -1*(lattice[index_i][index_j])\n",
    "    else:\n",
    "        pass\n",
    "\n",
    "print(lattice)"
   ]
  },
  {
   "cell_type": "markdown",
   "metadata": {},
   "source": [
    "## Metropolis Algo.\n",
    "\n",
    "step1 - Init\n",
    "\n",
    "1. Make N*N matrix\n",
    "2. Sj refers to spin of $ j^th $ particle, it can have values +1 or -1 (but never 0)\n",
    "3. Calculate E_i and M_i\n",
    "\n",
    "step2 - Propose & implement change:\n",
    "\n",
    "1. choose index to change\n",
    "2. calculate E and M for proposed trial system\n",
    "3. accept the change if trial energy is lowwer than the original energy, else set up boltzman probability wrt delta energy and have that be acceptance probability\n",
    "\n",
    "step0 - Equilibration\n",
    "\n"
   ]
  },
  {
   "cell_type": "code",
   "execution_count": 8,
   "metadata": {},
   "outputs": [
    {
     "name": "stdout",
     "output_type": "stream",
     "text": [
      "Energy of Lpve final: -5096\n"
     ]
    }
   ],
   "source": [
    "import numpy as np\n",
    "\n",
    "def Ising(J,N,Temp,Reps):\n",
    "    x = np.arange(0,N,1)\n",
    "    y = np.arange(0,N,1)\n",
    "\n",
    "    a = [-1,1]\n",
    "\n",
    "    lattice = []\n",
    "\n",
    "    for i in range(len(x)):\n",
    "        lattice.append(np.random.choice(a,len(y)))\n",
    "\n",
    "    lattice = np.array(lattice)\n",
    "\n",
    "    lat = lattice.copy()\n",
    "\n",
    "    for _ in range(Reps):\n",
    "\n",
    "        index_i = np.random.choice(x)\n",
    "        index_j = np.random.choice(y)\n",
    "        Energy_o = lattice[index_i][index_j]*(lattice[(index_i+1)%N][index_j]+lattice[index_i-1][index_j]+lattice[index_i][(index_j+1)%N]+lattice[index_i][index_j-1])\n",
    "        Energy_p = -1*Energy_o\n",
    "\n",
    "        try:\n",
    "            beta = 1/Temp\n",
    "        except ZeroDivisionError:\n",
    "            beta = np.inf\n",
    "\n",
    "        Mod_Eo = J*(Energy_o.sum())\n",
    "        Mod_Ep = J*(Energy_p.sum())\n",
    "\n",
    "        if Mod_Ep <= Mod_Eo:\n",
    "            lattice[index_i][index_j] = -1*(lattice[index_i][index_j])\n",
    "        else:\n",
    "            transition_prob = np.exp(-beta*abs(Mod_Ep-Mod_Eo))\n",
    "            ran = np.random.random()\n",
    "            if transition_prob > ran:\n",
    "                lattice[index_i][index_j] = -1*(lattice[index_i][index_j])\n",
    "            else:\n",
    "                pass\n",
    "\n",
    "    return (lat,lattice)\n",
    "    \n",
    "lpve = Ising(J = 1, N = 1000, Temp = 0, Reps = 2000)\n",
    "# lnve = Ising(J = -1, N = 10, Temp = 0, Reps = 2000)\n",
    "\n",
    "def get_energy_of_lattice(lattice,J):\n",
    "    N = len(lattice)\n",
    "    En = 0\n",
    "    for i in range(N):\n",
    "        for j in range(N):\n",
    "            En += lattice[i][j]*(lattice[(i+1)%N][j]+lattice[i-1][j]+lattice[i][(j+1)%N]+lattice[i][j-1])\n",
    "    return J*En\n",
    "\n",
    "# print('Energy of Lpve init:',get_energy_of_lattice(lpve[0],1))\n",
    "print('Energy of Lpve final:',get_energy_of_lattice(lpve[1],1))\n",
    "# print('Energy of Lnve init:',get_energy_of_lattice(lnve[0],-1))\n",
    "# print('Energy of Lnve final:',get_energy_of_lattice(lnve[1],-1)) "
   ]
  },
  {
   "cell_type": "code",
   "execution_count": null,
   "metadata": {},
   "outputs": [
    {
     "data": {
      "image/png": "[encoded data removed]",
      "text/plain": [
       "<Figure size 960x720 with 4 Axes>"
      ]
     },
     "metadata": {},
     "output_type": "display_data"
    }
   ],
   "source": [
    "import matplotlib.pyplot as plt\n",
    "\n",
    "# print((l[0]==l[1]))\n",
    "\n",
    "fig, ax = plt.subplots(2,2,dpi=150)\n",
    "# fig.set_tight_layout(True)\n",
    "fig.set_layout_engine('constrained')\n",
    "ax[0,0].imshow(lpve[0],cmap='grey')\n",
    "ax[0,0].tick_params(left=False, labelleft=False, bottom=False, labelbottom=False)\n",
    "ax[0,1].imshow(lpve[1],cmap='grey')\n",
    "ax[0,1].tick_params(left=False, labelleft=False, bottom=False, labelbottom=False)\n",
    "ax[1,0].imshow(lnve[0],cmap='grey')\n",
    "ax[1,0].tick_params(left=False, labelleft=False, bottom=False, labelbottom=False)\n",
    "ax[1,1].imshow(lnve[1],cmap='grey')\n",
    "ax[1,1].tick_params(left=False, labelleft=False, bottom=False, labelbottom=False)\n",
    "plt.savefig('/Users/rijul/Desktop/All/MIT/TY/SemVI/CP3/Ising_model_heart')\n",
    "plt.show()"
   ]
  }
 ],
 "metadata": {
  "kernelspec": {
   "display_name": "base",
   "language": "python",
   "name": "python3"
  },
  "language_info": {
   "codemirror_mode": {
    "name": "ipython",
    "version": 3
   },
   "file_extension": ".py",
   "mimetype": "text/x-python",
   "name": "python",
   "nbconvert_exporter": "python",
   "pygments_lexer": "ipython3",
   "version": "3.12.7"
  }
 },
 "nbformat": 4,
 "nbformat_minor": 2
}
