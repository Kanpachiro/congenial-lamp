{
 "cells": [
  {
   "cell_type": "code",
   "execution_count": null,
   "metadata": {},
   "outputs": [],
   "source": [
    "import numpy as np\n",
    "import matplotlib.pyplot as plt\n",
    "import re\n",
    "from pathlib import Path\n",
    "import os\n",
    "\n",
    "zmomentum = 2\n",
    "\n",
    "directory = os.getcwd()+f\"Kaon_data/Kaon_{zmomentum}\"\n",
    "\n",
    "folder = Path(directory).glob(\"*\")\n",
    "\n",
    "# allconfig = {}\n",
    "# counter = 0\n",
    "# for k in folder:\n",
    "#     file = Path(k).glob(\"*\")\n",
    "#     for i in file:\n",
    "#         counter += 1\n",
    "#         f = open(i)\n",
    "#         for line in f:\n",
    "#             p = (int(line.split(\" \")[0])**2)+(int(line.split(\" \")[1])**2)\n",
    "#             if p not in allconfig:\n",
    "#                 allconfig[p] = []\n",
    "#                 allconfig[p].append(float(line.split(\" \")[4]))\n",
    "#             else:\n",
    "#                 allconfig[p].append(float(line.split(\" \")[4]))\n",
    "\n",
    "allconfig = {}\n",
    "for k in folder:\n",
    "    file = Path(k).glob(\"*\")\n",
    "    for i in file:\n",
    "        f = open(i)\n",
    "        for line in f:\n",
    "            p = (int(line.split(\" \")[0])**2)+(int(line.split(\" \")[1])**2)\n",
    "            if p not in allconfig:\n",
    "                allconfig[p] = []\n",
    "                allconfig[p].append(float(line.split(\" \")[4]))\n",
    "            else:\n",
    "                allconfig[p].append(float(line.split(\" \")[4]))\n"
   ]
  },
  {
   "cell_type": "code",
   "execution_count": 113,
   "metadata": {},
   "outputs": [
    {
     "name": "stdout",
     "output_type": "stream",
     "text": [
      "(2396, 64)\n",
      "<class 'numpy.ndarray'>\n"
     ]
    }
   ],
   "source": [
    "for i in allconfig:\n",
    "    allconfig[i] = np.reshape(allconfig[i],(-1,64))\n",
    "\n",
    "print(np.shape(allconfig[0]))\n",
    "print(type(allconfig[0]))"
   ]
  },
  {
   "cell_type": "code",
   "execution_count": 114,
   "metadata": {},
   "outputs": [],
   "source": [
    "# Momentum Averaging\n",
    "mommy = {}\n",
    "for i in allconfig:\n",
    "    mommy[i] = []\n",
    "    if i == 0:\n",
    "        for j in range(0, len(allconfig[i]), 2):\n",
    "            mommy[i].append((allconfig[i][j]+allconfig[i][j+1])/2)\n",
    "    elif i == 1 or i == 2 or i == 4 or i == 8 or i == 9 or i == 16:\n",
    "        for j in range(0, len(allconfig[i]), 8):\n",
    "            mommy[i].append((allconfig[i][j]+allconfig[i][j+1]+allconfig[i][j+2]+allconfig[i][j+3]+allconfig[i][j+4]+allconfig[i][j+5]+allconfig[i][j+6]+allconfig[i][j+7])/8)\n",
    "    elif i == 5 or i == 10:\n",
    "        for j in range(0, len(allconfig[i]), 16):\n",
    "            mommy[i].append((allconfig[i][j]+allconfig[i][j+1]+allconfig[i][j+2]+allconfig[i][j+3]+allconfig[i][j+4]+allconfig[i][j+5]+allconfig[i][j+6]+allconfig[i][j+7]+allconfig[i][j+8]+allconfig[i][j+9]+allconfig[i][j+10]+allconfig[i][j+11]+allconfig[i][j+12]+allconfig[i][j+13]+allconfig[i][j+14]+allconfig[i][j+15])/16)\n",
    "\n",
    "# print(np.shape(mommy[16]))"
   ]
  },
  {
   "cell_type": "code",
   "execution_count": 115,
   "metadata": {},
   "outputs": [],
   "source": [
    "def timeavg(arr):\n",
    "    arr= np.array(arr)\n",
    "    rev = np.flipud(arr)\n",
    "\n",
    "    cont = arr+rev\n",
    "    cont = cont/2\n",
    "    cont[0] = arr[0]\n",
    "    cont[32] = arr[32]\n",
    "    return cont[:33]\n",
    "\n",
    "def energy(arr):\n",
    "    ene = []\n",
    "    for i in range(len(arr)-1):\n",
    "        var = arr[i]/arr[i+1]\n",
    "        if var > 0:\n",
    "            ene.append(np.log(var))\n",
    "        else:\n",
    "            ene.append(0)\n",
    "    return ene\n",
    "\n",
    "def jackknife(arr):\n",
    "    n = len(arr)\n",
    "    arr = np.array(arr)\n",
    "    s = np.sum(arr)\n",
    "\n",
    "    bin = []\n",
    "    for i in range(n):\n",
    "        bin.append(s-arr[i])\n",
    "    \n",
    "    bin = np.array(bin)/(n-1)\n",
    "    \n",
    "    return bin"
   ]
  },
  {
   "cell_type": "code",
   "execution_count": 116,
   "metadata": {},
   "outputs": [
    {
     "name": "stdout",
     "output_type": "stream",
     "text": [
      "(2396, 33)\n"
     ]
    }
   ],
   "source": [
    "timeavged = {}\n",
    "for i in allconfig:\n",
    "    timeavged[i] = []\n",
    "    for j in allconfig[i]:\n",
    "        timeavged[i].append(timeavg(j))\n",
    "    timeavged[i] = np.array(timeavged[i])\n",
    "\n",
    "print(np.shape(timeavged[0]))"
   ]
  },
  {
   "cell_type": "code",
   "execution_count": 117,
   "metadata": {},
   "outputs": [
    {
     "name": "stdout",
     "output_type": "stream",
     "text": [
      "[0, 1, 2, 4, 5, 8, 9, 10, 16]\n",
      "[2, 8, 8, 8, 16, 8, 8, 16, 8]\n"
     ]
    }
   ],
   "source": [
    "momns = [i for i in timeavged]\n",
    "counts = [int((np.shape(timeavged[i])[0])/1198) for i in timeavged]\n",
    "\n",
    "print(momns)\n",
    "print(counts)"
   ]
  },
  {
   "cell_type": "code",
   "execution_count": 118,
   "metadata": {},
   "outputs": [
    {
     "name": "stdout",
     "output_type": "stream",
     "text": [
      "(32, 2396)\n"
     ]
    }
   ],
   "source": [
    "enbin = {}\n",
    "for i in timeavged:\n",
    "    enbin[i] = []\n",
    "    for j in timeavged[i]:\n",
    "        enbin[i].append(energy(j))\n",
    "    # print(enbin[i])\n",
    "\n",
    "finbin = {}\n",
    "for i in enbin:\n",
    "    finbin[i] = np.transpose(enbin[i])\n",
    "\n",
    "print(np.shape(finbin[0]))\n",
    "\n",
    "jackbin = {}\n",
    "for i in finbin:\n",
    "    jackbin[i] = []\n",
    "    for j in finbin[i]:\n",
    "        jackbin[i].append(jackknife(j))"
   ]
  },
  {
   "cell_type": "code",
   "execution_count": 119,
   "metadata": {},
   "outputs": [
    {
     "data": {
      "image/png": "[encoded data removed]",
      "text/plain": [
       "<Figure size 640x480 with 1 Axes>"
      ]
     },
     "metadata": {},
     "output_type": "display_data"
    }
   ],
   "source": [
    "# from sympy import *\n",
    "\n",
    "binno =0\n",
    "# for binno in momns:\n",
    "y = []\n",
    "factor = len(jackbin[binno][0])\n",
    "y_err = []\n",
    "\n",
    "for i in jackbin[binno]:\n",
    "    avg = sum(i)/factor\n",
    "    y.append(avg)\n",
    "    stdevar = 0\n",
    "    for j in i:\n",
    "        stdevar += (j-avg)**2\n",
    "    stdevar = np.sqrt(stdevar*((factor-1)/factor))\n",
    "    y_err.append(stdevar)\n",
    "\n",
    "# print(np.shape(y))\n",
    "\n",
    "x = np.linspace(1,31,31)\n",
    "# plt.xlim(0,10.5)\n",
    "# plt.ylim(0.7,1)\n",
    "total_momentum = zmomentum**2 + binno\n",
    "tm = \"sqrt({})\".format(total_momentum)\n",
    "plt.errorbar(x,y[1:],y_err[1:],fmt='o',capsize=4)\n",
    "plt.legend(['Energy values'])\n",
    "plt.title(label=\"Momentum = {}\".format(tm))\n",
    "plt.savefig('/Users/rijul/Desktop/All/MIT/Summer/QCD/plotsave/plot_4_{}.png'.format(tm))\n",
    "plt.grid()\n",
    "plt.show()"
   ]
  },
  {
   "cell_type": "code",
   "execution_count": 120,
   "metadata": {},
   "outputs": [],
   "source": [
    "# start and end inclusive\n",
    "def plat_fit(start, end, y, y_err):\n",
    "    meanvals = np.array(y[start:end+1])\n",
    "    errvals = np.array(y_err[start:end+1])\n",
    "    errvals = 1/(errvals**2)\n",
    "    normalize = np.sum(errvals)\n",
    "    plat_energy = np.sum((meanvals*errvals)/normalize)\n",
    "\n",
    "    meanvals = jackknife(meanvals)\n",
    "\n",
    "    stdevar = 0\n",
    "    for i in meanvals:\n",
    "        stdevar += (i-plat_energy)**2\n",
    "    stdevar = np.sqrt(stdevar*((end-start)/(end-start+1)))\n",
    "\n",
    "    return (plat_energy,stdevar)\n",
    "    "
   ]
  },
  {
   "cell_type": "code",
   "execution_count": 124,
   "metadata": {},
   "outputs": [
    {
     "name": "stdout",
     "output_type": "stream",
     "text": [
      "0.47578796078047064+-0.001069966159122243\n"
     ]
    },
    {
     "data": {
      "image/png": "[encoded data removed]",
      "text/plain": [
       "<Figure size 640x480 with 1 Axes>"
      ]
     },
     "metadata": {},
     "output_type": "display_data"
    }
   ],
   "source": [
    "start = 6\n",
    "end = 11\n",
    "platval = plat_fit(start, end, y, y_err)\n",
    "subx = np.linspace(start,end,end-start+1)\n",
    "suby = np.full(end-start+1,platval[0])\n",
    "subyerr = np.full(end-start+1,platval[1])\n",
    "\n",
    "print(str(platval[0])+'+-'+str(platval[1]))\n",
    "\n",
    "# plt.xlim(0,10.5)\n",
    "# plt.ylim(0.7,1)\n",
    "plt.hlines(platval[0],start,end,colors='black')\n",
    "plt.fill_between(subx,suby+subyerr,suby-subyerr,color='red',alpha=0.5)\n",
    "plt.errorbar(x,y[1:],y_err[1:],fmt='o',capsize=4)\n",
    "plt.legend(['Plateau fit','Plateau error','Energy values'])\n",
    "plt.grid()\n",
    "# plt.savefig('/Users/rijul/Desktop/All/MIT/Summer/Plat_fit_plot004.pdf')\n",
    "plt.show()"
   ]
  }
 ],
 "metadata": {
  "kernelspec": {
   "display_name": "Grav",
   "language": "python",
   "name": "python3"
  },
  "language_info": {
   "codemirror_mode": {
    "name": "ipython",
    "version": 3
   },
   "file_extension": ".py",
   "mimetype": "text/x-python",
   "name": "python",
   "nbconvert_exporter": "python",
   "pygments_lexer": "ipython3",
   "version": "3.9.19"
  }
 },
 "nbformat": 4,
 "nbformat_minor": 2
}
